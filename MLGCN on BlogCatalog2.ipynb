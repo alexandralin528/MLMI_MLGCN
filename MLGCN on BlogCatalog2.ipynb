{
 "cells": [
  {
   "cell_type": "markdown",
   "metadata": {},
   "source": [
    "# Implement MLGCN on BlogCatalog dataset\n",
    "\n",
    "* **Link to the paper:** https://arxiv.org/pdf/1912.11757.pdf "
   ]
  },
  {
   "cell_type": "code",
   "execution_count": 1,
   "metadata": {},
   "outputs": [],
   "source": [
    "import pandas as pd \n",
    "import numpy as np\n",
    "import networkx as nx\n",
    "import scipy.sparse as sp\n",
    "from sklearn import preprocessing\n",
    "import matplotlib.pyplot as plt\n",
    "import csv\n",
    "import torch\n",
    "import itertools "
   ]
  },
  {
   "cell_type": "markdown",
   "metadata": {},
   "source": [
    "### Custom made functions: \n",
    "`normalize` : used in the normalization step for the adjacency matrix\n",
    "\n",
    "`threshold` : used for defining the sigmoid output to 0 or 1\n",
    "\n",
    "`accuracy_sample_class` : accuracy for samples having multilabels\n",
    "\n",
    "`micor_F1` and `macro_F1` : built based on the equations provided in the paper"
   ]
  },
  {
   "cell_type": "code",
   "execution_count": 2,
   "metadata": {},
   "outputs": [],
   "source": [
    "def normalize(mx):\n",
    "    \"\"\"Row-normalize sparse matrix\"\"\"\n",
    "    rowsum = np.array(mx.sum(1))\n",
    "    r_inv = np.power(rowsum, -1).flatten()\n",
    "    r_inv[np.isinf(r_inv)] = 0.\n",
    "    r_mat_inv = sp.diags(r_inv)\n",
    "    mx = r_mat_inv.dot(mx)\n",
    "    return mx"
   ]
  },
  {
   "cell_type": "code",
   "execution_count": 3,
   "metadata": {},
   "outputs": [],
   "source": [
    "def threshold(output):\n",
    "    output[output > 0.5] = 1\n",
    "    output[output <= 0.5] = 0\n",
    "    return output"
   ]
  },
  {
   "cell_type": "code",
   "execution_count": 4,
   "metadata": {},
   "outputs": [],
   "source": [
    "def accuracy_sample_class(output, labels):\n",
    "    \"\"\" \n",
    "    output is of shape (N,C)\n",
    "    Labels is of shape (N,C)\n",
    "    Result : acc gives the accuracy computed according to the sample-class view\n",
    "    \"\"\"\n",
    "    N = labels.shape[0]\n",
    "    C = labels.shape[1]\n",
    "    corr = np.sum(np.equal(output, labels))\n",
    "    # corr is the number of equal elements between labels and output and thus the number of correctly classified \n",
    "    # labels for each sample \n",
    "    acc = corr/(N*C)\n",
    "    return acc"
   ]
  },
  {
   "cell_type": "code",
   "execution_count": 5,
   "metadata": {},
   "outputs": [],
   "source": [
    "def micro_F1(output, labels):\n",
    "    TP = np.array([])\n",
    "    FN = np.array([])\n",
    "    FP = np.array([])\n",
    "    N = labels.shape[0]\n",
    "    L = labels.shape[1]\n",
    "    for l in range(L):\n",
    "        tp = 0\n",
    "        fn = 0\n",
    "        fp = 0\n",
    "        ol = output[:,l]\n",
    "        ll = labels[:,l]\n",
    "        for i in range(N):\n",
    "            if ll[i] == 1 and ol[i] == 1:\n",
    "                tp +=1\n",
    "            if ol[i] == 0 and ll[i] == 1:\n",
    "                fn +=1\n",
    "            if ol[i] == 1 and ll[i] == 0:\n",
    "                fp +=1\n",
    "        TP = np.append(TP, tp)\n",
    "        FN = np.append(FN, fn)\n",
    "        FP = np.append(FP, fp)\n",
    "    return np.sum(2*TP)/np.sum(2*TP + FN + FP)"
   ]
  },
  {
   "cell_type": "code",
   "execution_count": 7,
   "metadata": {},
   "outputs": [],
   "source": [
    "def macro_F1(output, labels):\n",
    "    TP = np.array([])\n",
    "    FN = np.array([])\n",
    "    FP = np.array([])\n",
    "    N = labels.shape[0]\n",
    "    L = labels.shape[1]\n",
    "    for l in range(L):\n",
    "        tp = 0\n",
    "        fn = 0\n",
    "        fp = 0\n",
    "        ol = output[:,l]\n",
    "        ll = labels[:,l]\n",
    "        for i in range(N):\n",
    "            if ll[i] == 1 and ol[i] == 1:\n",
    "                tp +=1\n",
    "            if ol[i] == 0 and ll[i] == 1:\n",
    "                fn +=1\n",
    "            if ol[i] == 1 and ll[i] == 0:\n",
    "                fp +=1\n",
    "        TP = np.append(TP, tp)\n",
    "        FN = np.append(FN, fn)\n",
    "        FP = np.append(FP, fp)\n",
    "    return np.sum(2*TP/(2*TP + FN + FP))"
   ]
  },
  {
   "cell_type": "markdown",
   "metadata": {},
   "source": [
    "### Load Function:\n",
    "Creating the input feature matrices, adjacency matrices and embeddings as input to the model from the two given csv files in `BlogCatalog` folder."
   ]
  },
  {
   "cell_type": "code",
   "execution_count": 8,
   "metadata": {},
   "outputs": [],
   "source": [
    "# number of labels\n",
    "m = 39"
   ]
  },
  {
   "cell_type": "code",
   "execution_count": 23,
   "metadata": {},
   "outputs": [],
   "source": [
    "def load_data(data_name):\n",
    "    edges_file = data_name + \"/edges.csv\"\n",
    "    node_label_file = data_name + \"/group-edges.csv\"\n",
    "    label_occ_file = data_name + \"/label_co-occurences.csv\"\n",
    "    nnlg_file = data_name + \"/edges_node_node_label.csv\"\n",
    "    llng_file = data_name + \"/edges_label_label_node.csv\"\n",
    "    label_raw, nodes = [], []\n",
    "    with open(node_label_file) as file_to_read: \n",
    "        while True:\n",
    "            lines = file_to_read.readline()\n",
    "            if not lines:\n",
    "                break \n",
    "            node, label = lines.split(\",\")\n",
    "            label_raw.append(int(label))\n",
    "            nodes.append(int(node))\n",
    "    label_raw = np.array(label_raw)\n",
    "    nodes = np.array(nodes)\n",
    "    unique_nodes = np.unique(nodes)\n",
    "    labels = np.zeros((unique_nodes.shape[0], m))\n",
    "    for l in range(1, m+1, 1):\n",
    "        indices = np.argwhere(label_raw == l).reshape(-1)\n",
    "        n_l = nodes[indices]\n",
    "        for n in n_l:\n",
    "            labels[n-1][l-1] = 1\n",
    "    \n",
    "    # node-node-label graph \n",
    "    label_nodes = label_raw + unique_nodes.shape[0] \n",
    "    n_n_l_nodes = np.concatenate((unique_nodes, np.unique(label_nodes)))\n",
    "    df = pd.DataFrame(list())\n",
    "    df.to_csv(nnlg_file)\n",
    "    f = open(nnlg_file, \"r+\")\n",
    "    file_to_read = open(edges_file, \"r\")\n",
    "    f.writelines(file_to_read.readlines())\n",
    "    a = np.dstack((nodes, label_nodes)).reshape(label_nodes.shape[0],2)\n",
    "    e = [\"\\n\"] + [\",\".join(item)+\"\\n\" for item in a.astype(str)]\n",
    "    f.writelines(e)\n",
    "    f.close()\n",
    "    \n",
    "    nnlg_file = \"BlogCatalog/edges_node_node_label.csv\"\n",
    "    nnl_graph = nx.read_edgelist(nnlg_file, delimiter = \",\", nodetype = int)\n",
    "    E = nx.adjacency_matrix(nnl_graph, nodelist = n_n_l_nodes)\n",
    "    main_graph = open(edges_file, \"rb\")\n",
    "    G = nx.read_edgelist(main_graph, delimiter = \",\", nodetype = int)\n",
    "    A = nx.adjacency_matrix(G, nodelist = unique_nodes)\n",
    "    A = sp.coo_matrix(A.todense())\n",
    "    # the input node feature is identity matrix now\n",
    "    X = np.eye(A.shape[0])\n",
    "    X_embedding = X[:,:400]\n",
    "    # Normalize the adjancency matrix with the added self loops\n",
    "    A_tilde = normalize(A + 3*sp.eye(A.shape[0]))\n",
    "    \n",
    "    # Label-label-node graph \n",
    "    edges = []\n",
    "    list_edges = []\n",
    "    for k in range(labels.shape[0]):\n",
    "        indices = np.argwhere(labels[k] == 1).reshape(-1)\n",
    "        if indices.shape[0]>1:\n",
    "            for subset in itertools.combinations(indices, 2): \n",
    "                if (list(subset) not in list_edges) or ([subset[1], subset[0]] not in list_edges):\n",
    "                    list_edges.append([subset[0], subset[1]+labels.shape[0]])# check if the common nodes should be before or after the label nodes\n",
    "                    edges.append(str(subset[0]+1) + \",\" + str(subset[1] +1) + \"\\n\")\n",
    "    df = pd.DataFrame(list())\n",
    "    df.to_csv(label_occ_file)\n",
    "    label_file = open(label_occ_file, \"r+\")\n",
    "    label_file.writelines(edges)\n",
    "    label_file.close()\n",
    "    unique_label_ID = np.arange(1,40)\n",
    "    label_file = open(label_occ_file, \"rb\")\n",
    "    label_graph = nx.read_edgelist(label_file, delimiter = \",\", nodetype = int)\n",
    "    C = nx.adjacency_matrix(label_graph, nodelist = unique_label_ID)\n",
    "    label_file.close()\n",
    "    # Normalize the co-occurence matrix with the added self loops\n",
    "    C_tilde = normalize(C + 2*sp.eye(C.shape[0]))\n",
    "    Y = np.random.rand(m,X.shape[0]) #instead of X[:m]\n",
    "    Y_embedding = Y[:,:400]\n",
    "    labels_ind = label_raw \n",
    "    nodes_ind = nodes + labels.shape[1]\n",
    "    a_1 = np.dstack((labels_ind,nodes)).reshape(labels_ind.shape[0],2)\n",
    "    e_1 = [\",\".join(item)+\"\\n\" for item in a_1.astype(str)]\n",
    "    file = open(label_occ_file, \"r+\")\n",
    "    file.writelines(e_1)\n",
    "    file.close()\n",
    "    f_1 = open(label_occ_file, \"rb\")\n",
    "    l_l_n_nodes = np.concatenate((np.unique(nodes_ind),np.unique(labels_ind)))\n",
    "    lln_graph = nx.read_edgelist(f_1, delimiter = \",\", nodetype = int)\n",
    "    F = nx.adjacency_matrix(lln_graph, nodelist = l_l_n_nodes)\n",
    "    F = sp.coo_matrix(F.todense())\n",
    "    f_1.close()\n",
    "    # Normalize the adjancency matrix with the added self loops\n",
    "    E = normalize(E + 3*sp.eye(E.shape[0]))\n",
    "    E_tilde = E[:len(unique_nodes)]\n",
    "    # Normalize the adjancency matrix with the added self loops\n",
    "    F = normalize(F + 2*sp.eye(F.shape[0]))\n",
    "    F_tilde = F[len(unique_nodes):]\n",
    "    \n",
    "    indices = np.arange(A.shape[0]).astype('int32') # should be shuffled\n",
    "    np.random.shuffle(indices)\n",
    "    \n",
    "    idx_train = indices[:(4 * A.shape[0]) // 5]\n",
    "    idx_val = indices[(4 * A.shape[0]) // 5 : (9 * A.shape[0]) // 10]\n",
    "    idx_test = indices[(9 * A.shape[0]) // 10:]\n",
    "    idx_train = torch.LongTensor(idx_train)\n",
    "    idx_val = torch.LongTensor(idx_val)\n",
    "    idx_test = torch.LongTensor(idx_test)\n",
    "    C_tilde = torch.FloatTensor(np.array(C_tilde.todense()))\n",
    "    E_tilde = torch.FloatTensor(np.array(E_tilde.todense()))\n",
    "    F_tilde = torch.FloatTensor(np.array(F_tilde.todense()))\n",
    "    A_tilde = torch.FloatTensor(np.array(A_tilde.todense()))\n",
    "    labels = torch.FloatTensor(labels)\n",
    "    Y = torch.FloatTensor(Y)\n",
    "    X = torch.FloatTensor(X)\n",
    "    X_embedding = torch.FloatTensor(X_embedding)\n",
    "    Y_embedding = torch.FloatTensor(Y_embedding)\n",
    "    \n",
    "    return G, X, Y, X_embedding, Y_embedding, F_tilde, E_tilde, C_tilde,A_tilde, idx_train, idx_val,idx_test, labels"
   ]
  },
  {
   "cell_type": "code",
   "execution_count": 24,
   "metadata": {},
   "outputs": [],
   "source": [
    "G, X, Y, X_embedding, Y_embedding, F_tilde, E_tilde, C_tilde,A_tilde, idx_train, idx_val,idx_test, labels = load_data(\"BlogCatalog\")"
   ]
  },
  {
   "cell_type": "code",
   "execution_count": 11,
   "metadata": {},
   "outputs": [],
   "source": [
    "# Define some variables \n",
    "n = A_tilde.shape[0]\n",
    "m = C_tilde.shape[0]"
   ]
  },
  {
   "cell_type": "markdown",
   "metadata": {},
   "source": [
    "### Let's get down to the training \n",
    "\n",
    "The cell below contains the models importing from `models1.py`, if the **Jupyter Notebook IDE** is used,\n",
    "\n",
    "change `from models1 import High_Layer, Low_Layer, GCN` \n",
    "\n",
    "to `from MLMI_MLGCN_project.models1 import High_Layer, Low_Layer, GCN`"
   ]
  },
  {
   "cell_type": "code",
   "execution_count": 12,
   "metadata": {},
   "outputs": [],
   "source": [
    "from __future__ import division\n",
    "from __future__ import print_function\n",
    "\n",
    "from models1 import High_Layer, Low_Layer, GCN\n",
    "\n",
    "\n",
    "import time\n",
    "import argparse\n",
    "import numpy as np\n",
    "\n",
    "import torch\n",
    "import torch.nn.functional as F\n",
    "import torch.optim as optim"
   ]
  },
  {
   "cell_type": "code",
   "execution_count": 13,
   "metadata": {},
   "outputs": [],
   "source": [
    "parser = argparse.ArgumentParser()\n",
    "parser.add_argument('--no-cuda', action='store_true', default=False,\n",
    "                    help='Disables CUDA training.')\n",
    "parser.add_argument('--fastmode', action='store_true', default=False,\n",
    "                    help='Validate during training pass.')\n",
    "parser.add_argument('--seed', type=int, default=42, help='Random seed.')\n",
    "parser.add_argument('--epochs', type=int, default=300,\n",
    "                    help='Number of epochs to train.')\n",
    "parser.add_argument('--lr', type=float, default=0.0001,\n",
    "                    help='Initial learning rate.')\n",
    "parser.add_argument('--weight_decay', type=float, default=0,\n",
    "                    help='Weight decay (L2 loss on parameters).')\n",
    "parser.add_argument('--hidden', type=int, default=400,\n",
    "                    help='Number of hidden units.')                   \n",
    "parser.add_argument('--hidden_ll', type=int, default=400,\n",
    "                    help='Number of hidden units.')\n",
    "parser.add_argument('--hidden_hl', type=int, default=400,\n",
    "                    help='Number of hidden units.')\n",
    "parser.add_argument('--hidden1', type=int, default=1000,\n",
    "                    help='Number of hidden units.')\n",
    "parser.add_argument('--dropout', type=float, default=0.5,\n",
    "                    help='Dropout rate (1 - keep probability).')\n",
    "parser.add_argument('-f')\n",
    "\n",
    "args = parser.parse_args([])\n",
    "args.cuda = not args.no_cuda and torch.cuda.is_available()\n",
    "np.random.seed(args.seed)\n",
    "torch.manual_seed(args.seed)\n",
    "if args.cuda:\n",
    "    torch.cuda.manual_seed(args.seed)"
   ]
  },
  {
   "cell_type": "code",
   "execution_count": 59,
   "metadata": {},
   "outputs": [],
   "source": [
    "# Define the models (high layer and low layer) and the optimizers for each on of them\n",
    "low_layer = Low_Layer(nfeat = A_tilde.shape[0],\n",
    "                      nhid_lowlayer = args.hidden_ll,\n",
    "                      nhid_highlayer = args.hidden_hl,\n",
    "                      nclass = C_tilde.shape[0],\n",
    "                      dropout = args.dropout)\n",
    "optimizer_lowlayer = optim.Adam(low_layer.parameters(),lr = args.lr, weight_decay = args.weight_decay)\n",
    "        \n",
    "high_layer = High_Layer(nfeat = A_tilde.shape[0],\n",
    "                        nhid_lowlayer = args.hidden_ll,\n",
    "                        nhid_highlayer = args.hidden_hl,\n",
    "                        nclass = C_tilde.shape[0],\n",
    "                        dropout = args.dropout)\n",
    "optimizer_highlayer = optim.Adam(high_layer.parameters(),lr = args.lr, weight_decay = args.weight_decay)"
   ]
  },
  {
   "cell_type": "code",
   "execution_count": 46,
   "metadata": {},
   "outputs": [],
   "source": [
    "truth = torch.LongTensor(np.arange(m))"
   ]
  },
  {
   "cell_type": "markdown",
   "metadata": {},
   "source": [
    "### Two Separate Training Parts\n",
    "\n",
    "Define the trainig part for low_layer as train_low and high_layer as train_high, this will make the iterating between two layers easier."
   ]
  },
  {
   "cell_type": "code",
   "execution_count": 56,
   "metadata": {},
   "outputs": [],
   "source": [
    "loss_train_list = []\n",
    "micro_F1_train_list = []\n",
    "loss_val_list = []\n",
    "micro_F1_val_list = []"
   ]
  },
  {
   "cell_type": "code",
   "execution_count": 57,
   "metadata": {},
   "outputs": [],
   "source": [
    "def train_low(epoch):\n",
    "      global loss_train_list \n",
    "      global micro_F1_train_list \n",
    "      global loss_val_list\n",
    "      global micro_F1_val_list\n",
    "      low_layer.train()\n",
    "      optimizer_lowlayer.zero_grad()\n",
    "      output_ll, X_embedding_ = low_layer(Y_, X, E_tilde, A_tilde)\n",
    "    \n",
    "      X_embedding_ = X_embedding_.detach()\n",
    "    \n",
    "      loss_train_ll = np.sum([F.binary_cross_entropy_with_logits(output_ll[idx_train][:,i], labels[idx_train][:,i]) for i in range(m)])\n",
    "      micro_F1_train = micro_F1(threshold(output_ll.detach().numpy()[idx_train]), labels.detach().numpy()[idx_train])\n",
    "      loss_train_ll.backward()\n",
    "      optimizer_lowlayer.step()\n",
    "    \n",
    "      # validation part\n",
    "      low_layer.eval()\n",
    "      output_ll, X_embedding_val = low_layer(Y_, X, E_tilde, A_tilde)\n",
    "      loss_val = np.sum([F.binary_cross_entropy_with_logits(output_ll[idx_val][:,i], labels[idx_val][:,i]) for i in range(m)])\n",
    "      micro_F1_val = micro_F1(threshold(output_ll.detach().numpy()[idx_val]), labels.detach().numpy()[idx_val])\n",
    "\n",
    "      loss_train_list.append(loss_train_ll.item())\n",
    "      loss_val_list.append(loss_val.item())\n",
    "      micro_F1_train_list.append(micro_F1_train.item())\n",
    "      micro_F1_val_list.append(micro_F1_val.item())\n",
    "\n",
    "      print('Epoch: {:04d}'.format(epoch+1),\n",
    "          'loss_train: {:.4f}'.format(loss_train_ll.item()),\n",
    "          'micro_F1_train: {:.4f}'.format(micro_F1_train.item()),\n",
    "          'loss_val: {:.4f}'.format(loss_val.item()),\n",
    "          'micro_F1_val: {:.4f}'.format(micro_F1_val.item())\n",
    "          )\n",
    "\n",
    "      return X_embedding_"
   ]
  },
  {
   "cell_type": "code",
   "execution_count": 58,
   "metadata": {},
   "outputs": [],
   "source": [
    "def train_high(epoch):\n",
    "    high_layer.train()\n",
    "    optimizer_highlayer.zero_grad()\n",
    "    output_hl, Y_embedding_ = high_layer(X_, Y, F_tilde, C_tilde)\n",
    "    Y_embedding_ = Y_embedding_.detach()\n",
    "    loss_train_hl = F.nll_loss(output_hl, truth)\n",
    "    loss_train_hl.backward()\n",
    "    optimizer_highlayer.step()\n",
    "\n",
    "    print('Epoch: {:04d}'.format(epoch+1),\n",
    "          'loss_train: {:.4f}'.format(loss_train_hl.item()),\n",
    "          #'acc_train: {:.4f}'.format(acc_train.item()),\n",
    "          )\n",
    "    \n",
    "    return Y_embedding_\n"
   ]
  },
  {
   "cell_type": "markdown",
   "metadata": {},
   "source": [
    "### Training \n",
    "\n",
    "This part is for training the two layers GCN, which contains two parts:\n",
    "\n",
    "`train_embedding` : we first train the meaningful embedding to give it as the input to high_layer, # training epochs = 50.\n",
    "\n",
    "`train_sep` : training high_layer and low_layer one by one, start with high_layer, each layer will be train for 50 epochs as suggested in the literature."
   ]
  },
  {
   "cell_type": "code",
   "execution_count": 42,
   "metadata": {},
   "outputs": [],
   "source": [
    "simple_GCN = GCN(nfeat = X.shape[1],\n",
    "                      nhid = args.hidden,\n",
    "                      nclass = m,\n",
    "                      dropout = args.dropout)\n",
    "optimizer_emb = optim.Adam(simple_GCN.parameters(),lr = args.lr, weight_decay = args.weight_decay)"
   ]
  },
  {
   "cell_type": "code",
   "execution_count": 43,
   "metadata": {},
   "outputs": [],
   "source": [
    "def train_embedding(epoch):\n",
    "    simple_GCN.train()\n",
    "    optimizer_emb.zero_grad()\n",
    "    output, X_embedding = simple_GCN(X, A_tilde)\n",
    "    loss_train = np.sum([F.binary_cross_entropy_with_logits(output[idx_train][:,i], labels[idx_train][:,i]) for i in range(39)])\n",
    "    micro_F1_train = micro_F1(threshold(output.detach().numpy()[idx_train]), labels.detach().numpy()[idx_train])\n",
    "    # macro_F1_train = macro_F1(threshold(output.detach().numpy()[idx_train]), labels.detach().numpy()[idx_train])\n",
    "    loss_train.backward()\n",
    "    optimizer_emb.step()\n",
    "\n",
    "    if not args.fastmode:\n",
    "        simple_GCN.eval()\n",
    "        output, X_embedding_val = simple_GCN(X, A_tilde)\n",
    "\n",
    "    loss_val = np.sum([F.binary_cross_entropy_with_logits(output[idx_val][:,i], labels[idx_val][:,i]) for i in range(39)])\n",
    "    micro_F1_val = micro_F1(threshold(output.detach().numpy()[idx_val]), labels.detach().numpy()[idx_val])\n",
    "    # macro_F1_val = macro_F1(threshold(output.detach().numpy()[idx_val]), labels.detach().numpy()[idx_val])\n",
    "    print('Epoch: {:04d}'.format(epoch+1),\n",
    "          'loss_train: {:.4f}'.format(loss_train.item()),\n",
    "          'micro_F1_train: {:.4f}'.format(micro_F1_train.item()),\n",
    "        #   'macro_F1_train: {:.4f}'.format(macro_F1_train.item()),\n",
    "          'loss_val: {:.4f}'.format(loss_val.item()),\n",
    "          'micro_F1_val: {:.4f}'.format(micro_F1_val.item())\n",
    "        #   'macro_F1_val: {:.4f}'.format(macro_F1_val.item())\n",
    "          )\n",
    "    return X_embedding"
   ]
  },
  {
   "cell_type": "code",
   "execution_count": 44,
   "metadata": {},
   "outputs": [
    {
     "name": "stdout",
     "output_type": "stream",
     "text": [
      "Epoch: 0001 loss_train: 37.3034 micro_F1_train: 0.0757 loss_val: 37.3005 micro_F1_val: 0.0743\n",
      "Epoch: 0002 loss_train: 37.2986 micro_F1_train: 0.0763 loss_val: 37.2948 micro_F1_val: 0.0740\n",
      "Epoch: 0003 loss_train: 37.2928 micro_F1_train: 0.0754 loss_val: 37.2892 micro_F1_val: 0.0740\n",
      "Epoch: 0004 loss_train: 37.2877 micro_F1_train: 0.0749 loss_val: 37.2835 micro_F1_val: 0.0741\n",
      "Epoch: 0005 loss_train: 37.2795 micro_F1_train: 0.0755 loss_val: 37.2778 micro_F1_val: 0.0742\n",
      "Epoch: 0006 loss_train: 37.2776 micro_F1_train: 0.0755 loss_val: 37.2721 micro_F1_val: 0.0742\n",
      "Epoch: 0007 loss_train: 37.2691 micro_F1_train: 0.0745 loss_val: 37.2665 micro_F1_val: 0.0742\n",
      "Epoch: 0008 loss_train: 37.2643 micro_F1_train: 0.0751 loss_val: 37.2608 micro_F1_val: 0.0743\n",
      "Epoch: 0009 loss_train: 37.2568 micro_F1_train: 0.0745 loss_val: 37.2551 micro_F1_val: 0.0743\n",
      "Epoch: 0010 loss_train: 37.2528 micro_F1_train: 0.0750 loss_val: 37.2494 micro_F1_val: 0.0742\n",
      "Epoch: 0011 loss_train: 37.2482 micro_F1_train: 0.0752 loss_val: 37.2437 micro_F1_val: 0.0742\n",
      "Epoch: 0012 loss_train: 37.2426 micro_F1_train: 0.0745 loss_val: 37.2380 micro_F1_val: 0.0742\n",
      "Epoch: 0013 loss_train: 37.2351 micro_F1_train: 0.0746 loss_val: 37.2322 micro_F1_val: 0.0742\n",
      "Epoch: 0014 loss_train: 37.2291 micro_F1_train: 0.0745 loss_val: 37.2265 micro_F1_val: 0.0742\n",
      "Epoch: 0015 loss_train: 37.2240 micro_F1_train: 0.0745 loss_val: 37.2207 micro_F1_val: 0.0741\n",
      "Epoch: 0016 loss_train: 37.2179 micro_F1_train: 0.0743 loss_val: 37.2149 micro_F1_val: 0.0742\n",
      "Epoch: 0017 loss_train: 37.2127 micro_F1_train: 0.0747 loss_val: 37.2092 micro_F1_val: 0.0743\n",
      "Epoch: 0018 loss_train: 37.2074 micro_F1_train: 0.0751 loss_val: 37.2034 micro_F1_val: 0.0744\n",
      "Epoch: 0019 loss_train: 37.2005 micro_F1_train: 0.0746 loss_val: 37.1975 micro_F1_val: 0.0744\n",
      "Epoch: 0020 loss_train: 37.1920 micro_F1_train: 0.0749 loss_val: 37.1917 micro_F1_val: 0.0746\n",
      "Epoch: 0021 loss_train: 37.1879 micro_F1_train: 0.0758 loss_val: 37.1858 micro_F1_val: 0.0742\n",
      "Epoch: 0022 loss_train: 37.1845 micro_F1_train: 0.0748 loss_val: 37.1799 micro_F1_val: 0.0736\n",
      "Epoch: 0023 loss_train: 37.1762 micro_F1_train: 0.0750 loss_val: 37.1740 micro_F1_val: 0.0738\n",
      "Epoch: 0024 loss_train: 37.1746 micro_F1_train: 0.0754 loss_val: 37.1680 micro_F1_val: 0.0740\n",
      "Epoch: 0025 loss_train: 37.1677 micro_F1_train: 0.0752 loss_val: 37.1621 micro_F1_val: 0.0740\n",
      "Epoch: 0026 loss_train: 37.1580 micro_F1_train: 0.0749 loss_val: 37.1561 micro_F1_val: 0.0742\n",
      "Epoch: 0027 loss_train: 37.1530 micro_F1_train: 0.0765 loss_val: 37.1501 micro_F1_val: 0.0747\n",
      "Epoch: 0028 loss_train: 37.1472 micro_F1_train: 0.0758 loss_val: 37.1440 micro_F1_val: 0.0757\n",
      "Epoch: 0029 loss_train: 37.1432 micro_F1_train: 0.0762 loss_val: 37.1379 micro_F1_val: 0.0761\n",
      "Epoch: 0030 loss_train: 37.1354 micro_F1_train: 0.0771 loss_val: 37.1318 micro_F1_val: 0.0765\n",
      "Epoch: 0031 loss_train: 37.1306 micro_F1_train: 0.0769 loss_val: 37.1257 micro_F1_val: 0.0773\n",
      "Epoch: 0032 loss_train: 37.1230 micro_F1_train: 0.0782 loss_val: 37.1195 micro_F1_val: 0.0785\n",
      "Epoch: 0033 loss_train: 37.1181 micro_F1_train: 0.0779 loss_val: 37.1133 micro_F1_val: 0.0795\n",
      "Epoch: 0034 loss_train: 37.1116 micro_F1_train: 0.0794 loss_val: 37.1071 micro_F1_val: 0.0800\n",
      "Epoch: 0035 loss_train: 37.1059 micro_F1_train: 0.0796 loss_val: 37.1008 micro_F1_val: 0.0805\n",
      "Epoch: 0036 loss_train: 37.0974 micro_F1_train: 0.0802 loss_val: 37.0945 micro_F1_val: 0.0812\n",
      "Epoch: 0037 loss_train: 37.0901 micro_F1_train: 0.0794 loss_val: 37.0882 micro_F1_val: 0.0820\n",
      "Epoch: 0038 loss_train: 37.0876 micro_F1_train: 0.0818 loss_val: 37.0818 micro_F1_val: 0.0838\n",
      "Epoch: 0039 loss_train: 37.0777 micro_F1_train: 0.0812 loss_val: 37.0753 micro_F1_val: 0.0856\n",
      "Epoch: 0040 loss_train: 37.0739 micro_F1_train: 0.0829 loss_val: 37.0689 micro_F1_val: 0.0871\n",
      "Epoch: 0041 loss_train: 37.0663 micro_F1_train: 0.0812 loss_val: 37.0624 micro_F1_val: 0.0877\n",
      "Epoch: 0042 loss_train: 37.0604 micro_F1_train: 0.0835 loss_val: 37.0558 micro_F1_val: 0.0873\n",
      "Epoch: 0043 loss_train: 37.0559 micro_F1_train: 0.0847 loss_val: 37.0492 micro_F1_val: 0.0882\n",
      "Epoch: 0044 loss_train: 37.0491 micro_F1_train: 0.0842 loss_val: 37.0425 micro_F1_val: 0.0884\n",
      "Epoch: 0045 loss_train: 37.0406 micro_F1_train: 0.0818 loss_val: 37.0358 micro_F1_val: 0.0886\n",
      "Epoch: 0046 loss_train: 37.0323 micro_F1_train: 0.0840 loss_val: 37.0290 micro_F1_val: 0.0882\n",
      "Epoch: 0047 loss_train: 37.0241 micro_F1_train: 0.0827 loss_val: 37.0222 micro_F1_val: 0.0873\n",
      "Epoch: 0048 loss_train: 37.0170 micro_F1_train: 0.0803 loss_val: 37.0153 micro_F1_val: 0.0862\n",
      "Epoch: 0049 loss_train: 37.0124 micro_F1_train: 0.0823 loss_val: 37.0084 micro_F1_val: 0.0822\n",
      "Epoch: 0050 loss_train: 37.0043 micro_F1_train: 0.0755 loss_val: 37.0014 micro_F1_val: 0.0752\n"
     ]
    }
   ],
   "source": [
    "for epoch in range(50):\n",
    "    X_embedding = train_embedding(epoch)\n",
    "\n",
    "X_embedding = X_embedding.detach()"
   ]
  },
  {
   "cell_type": "code",
   "execution_count": 60,
   "metadata": {},
   "outputs": [],
   "source": [
    "X_ = X_embedding.clone()\n",
    "Y_ = Y_embedding.clone()"
   ]
  },
  {
   "cell_type": "code",
   "execution_count": 55,
   "metadata": {},
   "outputs": [
    {
     "data": {
      "text/plain": [
       "tensor([[0.0383, 0.0000, 0.0000,  ..., 0.0151, 0.0391, 0.0190],\n",
       "        [0.0367, 0.0000, 0.0000,  ..., 0.0184, 0.0450, 0.0022],\n",
       "        [0.0411, 0.0000, 0.0000,  ..., 0.0182, 0.0443, 0.0198],\n",
       "        ...,\n",
       "        [0.0346, 0.0000, 0.0000,  ..., 0.0195, 0.0323, 0.0202],\n",
       "        [0.0218, 0.0000, 0.0000,  ..., 0.0147, 0.0351, 0.0072],\n",
       "        [0.0144, 0.0000, 0.0000,  ..., 0.0103, 0.0436, 0.0131]])"
      ]
     },
     "execution_count": 55,
     "metadata": {},
     "output_type": "execute_result"
    }
   ],
   "source": [
    "X_embedding"
   ]
  },
  {
   "cell_type": "code",
   "execution_count": 61,
   "metadata": {},
   "outputs": [],
   "source": [
    "# function to train them separately\n",
    "def train_sep(epoch, M, N):\n",
    "    global Y_\n",
    "    global X_\n",
    "\n",
    "    if np.floor(epoch/M) % 2 == 0:\n",
    "        Y_ = train_high(epoch)\n",
    "        \n",
    "    if np.floor(epoch/M) % 2 == 1:\n",
    "        X_ = train_low(epoch)"
   ]
  },
  {
   "cell_type": "code",
   "execution_count": 62,
   "metadata": {},
   "outputs": [
    {
     "name": "stdout",
     "output_type": "stream",
     "text": [
      "Epoch: 0001 loss_train: 3.6762\n",
      "Epoch: 0002 loss_train: 3.6641\n",
      "Epoch: 0003 loss_train: 3.6641\n",
      "Epoch: 0004 loss_train: 3.6655\n",
      "Epoch: 0005 loss_train: 3.6738\n",
      "Epoch: 0006 loss_train: 3.6663\n",
      "Epoch: 0007 loss_train: 3.6650\n",
      "Epoch: 0008 loss_train: 3.6662\n",
      "Epoch: 0009 loss_train: 3.6583\n",
      "Epoch: 0010 loss_train: 3.6598\n",
      "Epoch: 0011 loss_train: 3.6616\n",
      "Epoch: 0012 loss_train: 3.6619\n",
      "Epoch: 0013 loss_train: 3.6628\n",
      "Epoch: 0014 loss_train: 3.6617\n",
      "Epoch: 0015 loss_train: 3.6639\n",
      "Epoch: 0016 loss_train: 3.6619\n",
      "Epoch: 0017 loss_train: 3.6659\n",
      "Epoch: 0018 loss_train: 3.6697\n",
      "Epoch: 0019 loss_train: 3.6663\n",
      "Epoch: 0020 loss_train: 3.6597\n",
      "Epoch: 0021 loss_train: 3.6556\n",
      "Epoch: 0022 loss_train: 3.6603\n",
      "Epoch: 0023 loss_train: 3.6615\n",
      "Epoch: 0024 loss_train: 3.6623\n",
      "Epoch: 0025 loss_train: 3.6591\n",
      "Epoch: 0026 loss_train: 3.6619\n",
      "Epoch: 0027 loss_train: 3.6562\n",
      "Epoch: 0028 loss_train: 3.6661\n",
      "Epoch: 0029 loss_train: 3.6585\n",
      "Epoch: 0030 loss_train: 3.6646\n",
      "Epoch: 0031 loss_train: 3.6611\n",
      "Epoch: 0032 loss_train: 3.6678\n",
      "Epoch: 0033 loss_train: 3.6551\n",
      "Epoch: 0034 loss_train: 3.6620\n",
      "Epoch: 0035 loss_train: 3.6593\n",
      "Epoch: 0036 loss_train: 3.6621\n",
      "Epoch: 0037 loss_train: 3.6629\n",
      "Epoch: 0038 loss_train: 3.6572\n",
      "Epoch: 0039 loss_train: 3.6556\n",
      "Epoch: 0040 loss_train: 3.6569\n",
      "Epoch: 0041 loss_train: 3.6666\n",
      "Epoch: 0042 loss_train: 3.6656\n",
      "Epoch: 0043 loss_train: 3.6592\n",
      "Epoch: 0044 loss_train: 3.6587\n",
      "Epoch: 0045 loss_train: 3.6638\n",
      "Epoch: 0046 loss_train: 3.6583\n",
      "Epoch: 0047 loss_train: 3.6598\n",
      "Epoch: 0048 loss_train: 3.6570\n",
      "Epoch: 0049 loss_train: 3.6684\n",
      "Epoch: 0050 loss_train: 3.6636\n",
      "Epoch: 0051 loss_train: 37.2520 micro_F1_train: 0.0533 loss_val: 37.1993 micro_F1_val: 0.0497\n",
      "Epoch: 0052 loss_train: 37.1965 micro_F1_train: 0.0530 loss_val: 37.1469 micro_F1_val: 0.0494\n",
      "Epoch: 0053 loss_train: 37.1415 micro_F1_train: 0.0531 loss_val: 37.0953 micro_F1_val: 0.0498\n",
      "Epoch: 0054 loss_train: 37.0905 micro_F1_train: 0.0535 loss_val: 37.0439 micro_F1_val: 0.0498\n",
      "Epoch: 0055 loss_train: 37.0432 micro_F1_train: 0.0533 loss_val: 36.9920 micro_F1_val: 0.0515\n",
      "Epoch: 0056 loss_train: 36.9908 micro_F1_train: 0.0539 loss_val: 36.9389 micro_F1_val: 0.0529\n",
      "Epoch: 0057 loss_train: 36.9390 micro_F1_train: 0.0546 loss_val: 36.8845 micro_F1_val: 0.0550\n",
      "Epoch: 0058 loss_train: 36.8837 micro_F1_train: 0.0551 loss_val: 36.8284 micro_F1_val: 0.0558\n",
      "Epoch: 0059 loss_train: 36.8297 micro_F1_train: 0.0553 loss_val: 36.7707 micro_F1_val: 0.0560\n",
      "Epoch: 0060 loss_train: 36.7733 micro_F1_train: 0.0542 loss_val: 36.7114 micro_F1_val: 0.0576\n",
      "Epoch: 0061 loss_train: 36.7132 micro_F1_train: 0.0555 loss_val: 36.6504 micro_F1_val: 0.0583\n",
      "Epoch: 0062 loss_train: 36.6549 micro_F1_train: 0.0556 loss_val: 36.5878 micro_F1_val: 0.0596\n",
      "Epoch: 0063 loss_train: 36.5955 micro_F1_train: 0.0569 loss_val: 36.5235 micro_F1_val: 0.0606\n",
      "Epoch: 0064 loss_train: 36.5290 micro_F1_train: 0.0559 loss_val: 36.4574 micro_F1_val: 0.0620\n",
      "Epoch: 0065 loss_train: 36.4684 micro_F1_train: 0.0588 loss_val: 36.3897 micro_F1_val: 0.0613\n",
      "Epoch: 0066 loss_train: 36.3985 micro_F1_train: 0.0580 loss_val: 36.3202 micro_F1_val: 0.0620\n",
      "Epoch: 0067 loss_train: 36.3364 micro_F1_train: 0.0575 loss_val: 36.2489 micro_F1_val: 0.0614\n",
      "Epoch: 0068 loss_train: 36.2650 micro_F1_train: 0.0602 loss_val: 36.1758 micro_F1_val: 0.0622\n",
      "Epoch: 0069 loss_train: 36.1951 micro_F1_train: 0.0589 loss_val: 36.1009 micro_F1_val: 0.0630\n",
      "Epoch: 0070 loss_train: 36.1222 micro_F1_train: 0.0573 loss_val: 36.0242 micro_F1_val: 0.0629\n",
      "Epoch: 0071 loss_train: 36.0463 micro_F1_train: 0.0551 loss_val: 35.9456 micro_F1_val: 0.0629\n",
      "Epoch: 0072 loss_train: 35.9715 micro_F1_train: 0.0568 loss_val: 35.8651 micro_F1_val: 0.0616\n",
      "Epoch: 0073 loss_train: 35.8966 micro_F1_train: 0.0569 loss_val: 35.7828 micro_F1_val: 0.0626\n",
      "Epoch: 0074 loss_train: 35.8153 micro_F1_train: 0.0553 loss_val: 35.6986 micro_F1_val: 0.0641\n",
      "Epoch: 0075 loss_train: 35.7319 micro_F1_train: 0.0567 loss_val: 35.6124 micro_F1_val: 0.0637\n",
      "Epoch: 0076 loss_train: 35.6499 micro_F1_train: 0.0559 loss_val: 35.5245 micro_F1_val: 0.0640\n",
      "Epoch: 0077 loss_train: 35.5711 micro_F1_train: 0.0572 loss_val: 35.4346 micro_F1_val: 0.0637\n",
      "Epoch: 0078 loss_train: 35.4804 micro_F1_train: 0.0537 loss_val: 35.3430 micro_F1_val: 0.0619\n",
      "Epoch: 0079 loss_train: 35.4015 micro_F1_train: 0.0514 loss_val: 35.2496 micro_F1_val: 0.0598\n",
      "Epoch: 0080 loss_train: 35.3082 micro_F1_train: 0.0542 loss_val: 35.1544 micro_F1_val: 0.0604\n",
      "Epoch: 0081 loss_train: 35.2216 micro_F1_train: 0.0522 loss_val: 35.0576 micro_F1_val: 0.0551\n",
      "Epoch: 0082 loss_train: 35.1236 micro_F1_train: 0.0537 loss_val: 34.9592 micro_F1_val: 0.0484\n",
      "Epoch: 0083 loss_train: 35.0297 micro_F1_train: 0.0502 loss_val: 34.8592 micro_F1_val: 0.0468\n",
      "Epoch: 0084 loss_train: 34.9383 micro_F1_train: 0.0498 loss_val: 34.7578 micro_F1_val: 0.0420\n",
      "Epoch: 0085 loss_train: 34.8382 micro_F1_train: 0.0458 loss_val: 34.6549 micro_F1_val: 0.0358\n",
      "Epoch: 0086 loss_train: 34.7412 micro_F1_train: 0.0457 loss_val: 34.5508 micro_F1_val: 0.0255\n",
      "Epoch: 0087 loss_train: 34.6398 micro_F1_train: 0.0487 loss_val: 34.4454 micro_F1_val: 0.0198\n",
      "Epoch: 0088 loss_train: 34.5421 micro_F1_train: 0.0455 loss_val: 34.3389 micro_F1_val: 0.0174\n",
      "Epoch: 0089 loss_train: 34.4386 micro_F1_train: 0.0436 loss_val: 34.2313 micro_F1_val: 0.0170\n",
      "Epoch: 0090 loss_train: 34.3285 micro_F1_train: 0.0403 loss_val: 34.1228 micro_F1_val: 0.0143\n",
      "Epoch: 0091 loss_train: 34.2330 micro_F1_train: 0.0396 loss_val: 34.0135 micro_F1_val: 0.0125\n",
      "Epoch: 0092 loss_train: 34.1276 micro_F1_train: 0.0408 loss_val: 33.9034 micro_F1_val: 0.0117\n",
      "Epoch: 0093 loss_train: 34.0224 micro_F1_train: 0.0392 loss_val: 33.7926 micro_F1_val: 0.0084\n",
      "Epoch: 0094 loss_train: 33.9093 micro_F1_train: 0.0355 loss_val: 33.6813 micro_F1_val: 0.0074\n",
      "Epoch: 0095 loss_train: 33.7971 micro_F1_train: 0.0325 loss_val: 33.5695 micro_F1_val: 0.0076\n",
      "Epoch: 0096 loss_train: 33.6931 micro_F1_train: 0.0347 loss_val: 33.4574 micro_F1_val: 0.0077\n",
      "Epoch: 0097 loss_train: 33.5868 micro_F1_train: 0.0327 loss_val: 33.3449 micro_F1_val: 0.0078\n",
      "Epoch: 0098 loss_train: 33.4729 micro_F1_train: 0.0323 loss_val: 33.2324 micro_F1_val: 0.0053\n",
      "Epoch: 0099 loss_train: 33.3723 micro_F1_train: 0.0304 loss_val: 33.1197 micro_F1_val: 0.0053\n",
      "Epoch: 0100 loss_train: 33.2514 micro_F1_train: 0.0321 loss_val: 33.0070 micro_F1_val: 0.0027\n",
      "Epoch: 0101 loss_train: 4.5315\n",
      "Epoch: 0102 loss_train: 4.0218\n",
      "Epoch: 0103 loss_train: 3.9023\n",
      "Epoch: 0104 loss_train: 3.9036\n",
      "Epoch: 0105 loss_train: 3.9710\n",
      "Epoch: 0106 loss_train: 3.9984\n",
      "Epoch: 0107 loss_train: 3.9480\n",
      "Epoch: 0108 loss_train: 3.8485\n",
      "Epoch: 0109 loss_train: 3.9098\n",
      "Epoch: 0110 loss_train: 3.7444\n",
      "Epoch: 0111 loss_train: 3.7431\n",
      "Epoch: 0112 loss_train: 3.7470\n",
      "Epoch: 0113 loss_train: 3.7233\n",
      "Epoch: 0114 loss_train: 3.7021\n",
      "Epoch: 0115 loss_train: 3.7180\n",
      "Epoch: 0116 loss_train: 3.7072\n",
      "Epoch: 0117 loss_train: 3.6905\n",
      "Epoch: 0118 loss_train: 3.6776\n",
      "Epoch: 0119 loss_train: 3.6687\n",
      "Epoch: 0120 loss_train: 3.6508\n",
      "Epoch: 0121 loss_train: 3.6522\n",
      "Epoch: 0122 loss_train: 3.6927\n",
      "Epoch: 0123 loss_train: 3.6390\n",
      "Epoch: 0124 loss_train: 3.6378\n",
      "Epoch: 0125 loss_train: 3.6532\n",
      "Epoch: 0126 loss_train: 3.6410\n",
      "Epoch: 0127 loss_train: 3.6122\n",
      "Epoch: 0128 loss_train: 3.5963\n",
      "Epoch: 0129 loss_train: 3.6504\n",
      "Epoch: 0130 loss_train: 3.6328\n",
      "Epoch: 0131 loss_train: 3.6035\n",
      "Epoch: 0132 loss_train: 3.6328\n",
      "Epoch: 0133 loss_train: 3.5893\n",
      "Epoch: 0134 loss_train: 3.5997\n",
      "Epoch: 0135 loss_train: 3.6105\n",
      "Epoch: 0136 loss_train: 3.6006\n",
      "Epoch: 0137 loss_train: 3.6313\n",
      "Epoch: 0138 loss_train: 3.5721\n",
      "Epoch: 0139 loss_train: 3.5906\n",
      "Epoch: 0140 loss_train: 3.5891\n",
      "Epoch: 0141 loss_train: 3.6099\n",
      "Epoch: 0142 loss_train: 3.5905\n",
      "Epoch: 0143 loss_train: 3.5878\n",
      "Epoch: 0144 loss_train: 3.5722\n",
      "Epoch: 0145 loss_train: 3.5711\n",
      "Epoch: 0146 loss_train: 3.5734\n",
      "Epoch: 0147 loss_train: 3.5853\n",
      "Epoch: 0148 loss_train: 3.5988\n",
      "Epoch: 0149 loss_train: 3.5651\n",
      "Epoch: 0150 loss_train: 3.5993\n",
      "Epoch: 0151 loss_train: 32.0517 micro_F1_train: 0.0191 loss_val: 31.7705 micro_F1_val: 0.0000\n",
      "Epoch: 0152 loss_train: 31.9088 micro_F1_train: 0.0226 loss_val: 31.6205 micro_F1_val: 0.0000\n",
      "Epoch: 0153 loss_train: 31.7660 micro_F1_train: 0.0169 loss_val: 31.4661 micro_F1_val: 0.0000\n",
      "Epoch: 0154 loss_train: 31.6056 micro_F1_train: 0.0190 loss_val: 31.3095 micro_F1_val: 0.0000\n",
      "Epoch: 0155 loss_train: 31.4515 micro_F1_train: 0.0135 loss_val: 31.1522 micro_F1_val: 0.0000\n",
      "Epoch: 0156 loss_train: 31.2938 micro_F1_train: 0.0160 loss_val: 30.9957 micro_F1_val: 0.0000\n",
      "Epoch: 0157 loss_train: 31.1201 micro_F1_train: 0.0151 loss_val: 30.8408 micro_F1_val: 0.0000\n",
      "Epoch: 0158 loss_train: 30.9669 micro_F1_train: 0.0141 loss_val: 30.6884 micro_F1_val: 0.0000\n",
      "Epoch: 0159 loss_train: 30.8195 micro_F1_train: 0.0138 loss_val: 30.5391 micro_F1_val: 0.0000\n",
      "Epoch: 0160 loss_train: 30.6643 micro_F1_train: 0.0124 loss_val: 30.3933 micro_F1_val: 0.0000\n",
      "Epoch: 0161 loss_train: 30.5112 micro_F1_train: 0.0107 loss_val: 30.2514 micro_F1_val: 0.0000\n",
      "Epoch: 0162 loss_train: 30.3596 micro_F1_train: 0.0104 loss_val: 30.1137 micro_F1_val: 0.0000\n",
      "Epoch: 0163 loss_train: 30.2196 micro_F1_train: 0.0092 loss_val: 29.9805 micro_F1_val: 0.0000\n",
      "Epoch: 0164 loss_train: 30.0865 micro_F1_train: 0.0081 loss_val: 29.8517 micro_F1_val: 0.0000\n",
      "Epoch: 0165 loss_train: 29.9468 micro_F1_train: 0.0093 loss_val: 29.7276 micro_F1_val: 0.0000\n",
      "Epoch: 0166 loss_train: 29.8245 micro_F1_train: 0.0075 loss_val: 29.6081 micro_F1_val: 0.0000\n",
      "Epoch: 0167 loss_train: 29.7078 micro_F1_train: 0.0085 loss_val: 29.4933 micro_F1_val: 0.0000\n",
      "Epoch: 0168 loss_train: 29.5762 micro_F1_train: 0.0080 loss_val: 29.3831 micro_F1_val: 0.0000\n",
      "Epoch: 0169 loss_train: 29.4675 micro_F1_train: 0.0064 loss_val: 29.2776 micro_F1_val: 0.0000\n",
      "Epoch: 0170 loss_train: 29.3511 micro_F1_train: 0.0040 loss_val: 29.1766 micro_F1_val: 0.0000\n",
      "Epoch: 0171 loss_train: 29.2582 micro_F1_train: 0.0061 loss_val: 29.0801 micro_F1_val: 0.0000\n",
      "Epoch: 0172 loss_train: 29.1603 micro_F1_train: 0.0047 loss_val: 28.9880 micro_F1_val: 0.0000\n",
      "Epoch: 0173 loss_train: 29.0631 micro_F1_train: 0.0046 loss_val: 28.9001 micro_F1_val: 0.0000\n",
      "Epoch: 0174 loss_train: 28.9678 micro_F1_train: 0.0029 loss_val: 28.8164 micro_F1_val: 0.0000\n",
      "Epoch: 0175 loss_train: 28.8849 micro_F1_train: 0.0058 loss_val: 28.7366 micro_F1_val: 0.0000\n",
      "Epoch: 0176 loss_train: 28.8039 micro_F1_train: 0.0037 loss_val: 28.6607 micro_F1_val: 0.0000\n",
      "Epoch: 0177 loss_train: 28.7187 micro_F1_train: 0.0037 loss_val: 28.5885 micro_F1_val: 0.0000\n",
      "Epoch: 0178 loss_train: 28.6388 micro_F1_train: 0.0036 loss_val: 28.5198 micro_F1_val: 0.0000\n",
      "Epoch: 0179 loss_train: 28.5807 micro_F1_train: 0.0029 loss_val: 28.4546 micro_F1_val: 0.0000\n",
      "Epoch: 0180 loss_train: 28.5106 micro_F1_train: 0.0031 loss_val: 28.3926 micro_F1_val: 0.0000\n",
      "Epoch: 0181 loss_train: 28.4483 micro_F1_train: 0.0026 loss_val: 28.3337 micro_F1_val: 0.0000\n",
      "Epoch: 0182 loss_train: 28.3829 micro_F1_train: 0.0024 loss_val: 28.2778 micro_F1_val: 0.0000\n",
      "Epoch: 0183 loss_train: 28.3315 micro_F1_train: 0.0032 loss_val: 28.2248 micro_F1_val: 0.0000\n",
      "Epoch: 0184 loss_train: 28.2733 micro_F1_train: 0.0024 loss_val: 28.1745 micro_F1_val: 0.0000\n",
      "Epoch: 0185 loss_train: 28.2267 micro_F1_train: 0.0014 loss_val: 28.1268 micro_F1_val: 0.0000\n",
      "Epoch: 0186 loss_train: 28.1726 micro_F1_train: 0.0019 loss_val: 28.0816 micro_F1_val: 0.0000\n",
      "Epoch: 0187 loss_train: 28.1259 micro_F1_train: 0.0010 loss_val: 28.0387 micro_F1_val: 0.0000\n",
      "Epoch: 0188 loss_train: 28.0822 micro_F1_train: 0.0021 loss_val: 27.9981 micro_F1_val: 0.0000\n",
      "Epoch: 0189 loss_train: 28.0373 micro_F1_train: 0.0005 loss_val: 27.9596 micro_F1_val: 0.0000\n",
      "Epoch: 0190 loss_train: 27.9951 micro_F1_train: 0.0005 loss_val: 27.9231 micro_F1_val: 0.0000\n",
      "Epoch: 0191 loss_train: 27.9594 micro_F1_train: 0.0010 loss_val: 27.8884 micro_F1_val: 0.0000\n",
      "Epoch: 0192 loss_train: 27.9285 micro_F1_train: 0.0017 loss_val: 27.8556 micro_F1_val: 0.0000\n",
      "Epoch: 0193 loss_train: 27.8920 micro_F1_train: 0.0015 loss_val: 27.8244 micro_F1_val: 0.0000\n",
      "Epoch: 0194 loss_train: 27.8595 micro_F1_train: 0.0010 loss_val: 27.7949 micro_F1_val: 0.0000\n",
      "Epoch: 0195 loss_train: 27.8238 micro_F1_train: 0.0010 loss_val: 27.7668 micro_F1_val: 0.0000\n",
      "Epoch: 0196 loss_train: 27.7925 micro_F1_train: 0.0012 loss_val: 27.7402 micro_F1_val: 0.0000\n",
      "Epoch: 0197 loss_train: 27.7732 micro_F1_train: 0.0007 loss_val: 27.7150 micro_F1_val: 0.0000\n",
      "Epoch: 0198 loss_train: 27.7459 micro_F1_train: 0.0003 loss_val: 27.6910 micro_F1_val: 0.0000\n",
      "Epoch: 0199 loss_train: 27.7218 micro_F1_train: 0.0003 loss_val: 27.6681 micro_F1_val: 0.0000\n",
      "Epoch: 0200 loss_train: 27.6949 micro_F1_train: 0.0009 loss_val: 27.6465 micro_F1_val: 0.0000\n"
     ]
    }
   ],
   "source": [
    "t_total = time.time()\n",
    "for epoch in range(200):\n",
    "    train_sep(epoch, 50, 50)"
   ]
  },
  {
   "cell_type": "code",
   "execution_count": 67,
   "metadata": {},
   "outputs": [
    {
     "data": {
      "text/plain": [
       "Text(0, 0.5, 'a.u.')"
      ]
     },
     "execution_count": 67,
     "metadata": {},
     "output_type": "execute_result"
    },
    {
     "data": {
      "image/png": "[encoded data removed]",
      "text/plain": [
       "<Figure size 432x288 with 1 Axes>"
      ]
     },
     "metadata": {
      "needs_background": "light"
     },
     "output_type": "display_data"
    }
   ],
   "source": [
    "plt.plot(loss_train_list,label='train')\n",
    "plt.plot(loss_val_list,label='val')\n",
    "plt.legend(loc='upper right')\n",
    "plt.title('loss')\n",
    "plt.xlabel('epoch')\n",
    "plt.ylabel('a.u.')"
   ]
  },
  {
   "cell_type": "code",
   "execution_count": 68,
   "metadata": {},
   "outputs": [
    {
     "data": {
      "text/plain": [
       "Text(0, 0.5, 'value')"
      ]
     },
     "execution_count": 68,
     "metadata": {},
     "output_type": "execute_result"
    },
    {
     "data": {
      "image/png": "[encoded data removed]",
      "text/plain": [
       "<Figure size 432x288 with 1 Axes>"
      ]
     },
     "metadata": {
      "needs_background": "light"
     },
     "output_type": "display_data"
    }
   ],
   "source": [
    "plt.plot(micro_F1_train_list,label='train')\n",
    "plt.plot(micro_F1_val_list,label='val')\n",
    "plt.legend(loc='upper right')\n",
    "plt.title('micro_F1')\n",
    "plt.xlabel('epoch')\n",
    "plt.ylabel('value')"
   ]
  },
  {
   "cell_type": "code",
   "execution_count": 69,
   "metadata": {},
   "outputs": [],
   "source": [
    "def test():\n",
    "    low_layer.eval()\n",
    "    output_ll, X_embedding_ = low_layer(Y_, X, E_tilde, A_tilde)\n",
    "    loss_test = np.sum([F.binary_cross_entropy_with_logits(output_ll[idx_test][:,i], labels[idx_test][:,i]) for i in range(39)])\n",
    "    micro_F1_train = micro_F1(threshold(output_ll.detach().numpy()[idx_test]), labels.detach().numpy()[idx_test])\n",
    "    print(\"Test set results:\",\n",
    "          \"loss= {:.4f}\".format(loss_test.item()),\n",
    "          \"micro_F1= {:.4f}\".format(micro_F1_train.item()))\n",
    "    return threshold(output_ll.detach().numpy()[idx_test])"
   ]
  },
  {
   "cell_type": "code",
   "execution_count": 70,
   "metadata": {},
   "outputs": [
    {
     "name": "stdout",
     "output_type": "stream",
     "text": [
      "Test set results: loss= 27.6970 micro_F1= 0.0000\n"
     ]
    }
   ],
   "source": [
    "y_predict = test()"
   ]
  },
  {
   "cell_type": "code",
   "execution_count": 78,
   "metadata": {},
   "outputs": [],
   "source": [
    "y_predict = y_predict.astype(int)"
   ]
  },
  {
   "cell_type": "code",
   "execution_count": 79,
   "metadata": {},
   "outputs": [
    {
     "data": {
      "text/plain": [
       "0"
      ]
     },
     "execution_count": 79,
     "metadata": {},
     "output_type": "execute_result"
    }
   ],
   "source": [
    "np.sum(y_predict)"
   ]
  },
  {
   "cell_type": "code",
   "execution_count": 72,
   "metadata": {},
   "outputs": [],
   "source": [
    "from sklearn.metrics import classification_report"
   ]
  },
  {
   "cell_type": "code",
   "execution_count": 77,
   "metadata": {},
   "outputs": [
    {
     "name": "stdout",
     "output_type": "stream",
     "text": [
      "              precision    recall  f1-score   support\n",
      "\n",
      "     class 1       0.00      0.00      0.00        25\n",
      "     class 2       0.00      0.00      0.00        76\n",
      "     class 3       0.00      0.00      0.00        59\n",
      "     class 4       0.00      0.00      0.00        28\n",
      "     class 5       0.00      0.00      0.00        85\n",
      "     class 6       0.00      0.00      0.00        80\n",
      "     class 7       0.00      0.00      0.00        52\n",
      "     class 8       0.00      0.00      0.00       169\n",
      "     class 9       0.00      0.00      0.00        28\n",
      "    class 10       0.00      0.00      0.00        46\n",
      "    class 11       0.00      0.00      0.00        52\n",
      "    class 12       0.00      0.00      0.00         4\n",
      "    class 13       0.00      0.00      0.00        50\n",
      "    class 14       0.00      0.00      0.00        34\n",
      "    class 15       0.00      0.00      0.00        12\n",
      "    class 16       0.00      0.00      0.00        29\n",
      "    class 17       0.00      0.00      0.00        48\n",
      "    class 18       0.00      0.00      0.00        43\n",
      "    class 19       0.00      0.00      0.00        97\n",
      "    class 20       0.00      0.00      0.00        23\n",
      "    class 21       0.00      0.00      0.00        30\n",
      "    class 22       0.00      0.00      0.00        27\n",
      "    class 23       0.00      0.00      0.00        34\n",
      "    class 24       0.00      0.00      0.00        98\n",
      "    class 25       0.00      0.00      0.00        30\n",
      "    class 26       0.00      0.00      0.00        32\n",
      "    class 27       0.00      0.00      0.00         9\n",
      "    class 28       0.00      0.00      0.00        16\n",
      "    class 29       0.00      0.00      0.00        13\n",
      "    class 30       0.00      0.00      0.00        37\n",
      "    class 31       0.00      0.00      0.00        11\n",
      "    class 32       0.00      0.00      0.00        33\n",
      "    class 33       0.00      0.00      0.00        12\n",
      "    class 34       0.00      0.00      0.00         6\n",
      "    class 35       0.00      0.00      0.00         7\n",
      "    class 36       0.00      0.00      0.00        16\n",
      "    class 37       0.00      0.00      0.00         6\n",
      "    class 38       0.00      0.00      0.00         5\n",
      "    class 39       0.00      0.00      0.00         1\n",
      "\n",
      "   micro avg       0.00      0.00      0.00      1463\n",
      "   macro avg       0.00      0.00      0.00      1463\n",
      "weighted avg       0.00      0.00      0.00      1463\n",
      " samples avg       0.00      0.00      0.00      1463\n",
      "\n"
     ]
    },
    {
     "name": "stderr",
     "output_type": "stream",
     "text": [
      "/Users/linheshan/opt/anaconda3/lib/python3.7/site-packages/sklearn/metrics/_classification.py:1272: UndefinedMetricWarning: Precision and F-score are ill-defined and being set to 0.0 in labels with no predicted samples. Use `zero_division` parameter to control this behavior.\n",
      "  _warn_prf(average, modifier, msg_start, len(result))\n",
      "/Users/linheshan/opt/anaconda3/lib/python3.7/site-packages/sklearn/metrics/_classification.py:1272: UndefinedMetricWarning: Precision and F-score are ill-defined and being set to 0.0 due to no predicted samples. Use `zero_division` parameter to control this behavior.\n",
      "  _warn_prf(average, modifier, msg_start, len(result))\n",
      "/Users/linheshan/opt/anaconda3/lib/python3.7/site-packages/sklearn/metrics/_classification.py:1272: UndefinedMetricWarning: Precision and F-score are ill-defined and being set to 0.0 in samples with no predicted labels. Use `zero_division` parameter to control this behavior.\n",
      "  _warn_prf(average, modifier, msg_start, len(result))\n"
     ]
    }
   ],
   "source": [
    "y_true = labels.numpy()[idx_test]\n",
    "target_names = ['class 1', 'class 2', 'class 3', 'class 4', 'class 5', 'class 6', 'class 7', 'class 8', 'class 9',\n",
    "                'class 10', 'class 11', 'class 12', 'class 13', 'class 14', 'class 15', 'class 16', 'class 17', 'class 18', 'class 19',\n",
    "                'class 20', 'class 21', 'class 22', 'class 23', 'class 24', 'class 25', 'class 26', 'class 27', 'class 28', 'class 29',\n",
    "                'class 30', 'class 31', 'class 32', 'class 33', 'class 34', 'class 35', 'class 36', 'class 37', 'class 38', 'class 39']\n",
    "print(classification_report(y_true, y_predict, target_names=target_names))"
   ]
  }
 ],
 "metadata": {
  "kernelspec": {
   "display_name": "Python 3",
   "language": "python",
   "name": "python3"
  },
  "language_info": {
   "codemirror_mode": {
    "name": "ipython",
    "version": 3
   },
   "file_extension": ".py",
   "mimetype": "text/x-python",
   "name": "python",
   "nbconvert_exporter": "python",
   "pygments_lexer": "ipython3",
   "version": "3.7.4"
  }
 },
 "nbformat": 4,
 "nbformat_minor": 4
}
